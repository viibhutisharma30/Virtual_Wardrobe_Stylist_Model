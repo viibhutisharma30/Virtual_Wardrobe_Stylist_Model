{
  "cells": [
    {
      "cell_type": "markdown",
      "metadata": {
        "id": "view-in-github",
        "colab_type": "text"
      },
      "source": [
        "<a href=\"https://colab.research.google.com/github/viibhutisharma30/Virtual_Wardrobe_Stylist_Model/blob/main/Main.ipynb\" target=\"_parent\"><img src=\"https://colab.research.google.com/assets/colab-badge.svg\" alt=\"Open In Colab\"/></a>"
      ]
    },
    {
      "cell_type": "code",
      "execution_count": null,
      "id": "05ccfe4d-665f-4f8d-8686-8b82c1c2d3cb",
      "metadata": {
        "id": "05ccfe4d-665f-4f8d-8686-8b82c1c2d3cb",
        "outputId": "8def8f95-49ca-45cf-bc78-591b2cedafdd"
      },
      "outputs": [
        {
          "name": "stdout",
          "output_type": "stream",
          "text": [
            "Top model training accuracy: 93.55%\n",
            "Top model test accuracy: 75.00%\n",
            "Bottom model training accuracy: 89.47%\n",
            "Bottom model test accuracy: 70.00%\n"
          ]
        },
        {
          "data": {
            "text/plain": [
              "['le_combination.pkl']"
            ]
          },
          "execution_count": 1,
          "metadata": {},
          "output_type": "execute_result"
        }
      ],
      "source": [
        "import pandas as pd\n",
        "from sklearn.ensemble import RandomForestClassifier\n",
        "from sklearn.model_selection import train_test_split\n",
        "from sklearn.preprocessing import LabelEncoder\n",
        "import joblib\n",
        "\n",
        "# Load the dataset\n",
        "data = pd.read_csv('wardrobe_training_large.csv')\n",
        "\n",
        "# Initialize LabelEncoders\n",
        "le_item_type = LabelEncoder()\n",
        "le_color = LabelEncoder()\n",
        "le_style = LabelEncoder()\n",
        "le_occasion = LabelEncoder()\n",
        "le_season = LabelEncoder()\n",
        "le_body_type = LabelEncoder()\n",
        "le_combination = LabelEncoder()\n",
        "\n",
        "# Encode categorical features\n",
        "data['item_type'] = le_item_type.fit_transform(data['item_type'])\n",
        "data['color'] = le_color.fit_transform(data['color'])\n",
        "data['style'] = le_style.fit_transform(data['style'])\n",
        "data['occasion'] = le_occasion.fit_transform(data['occasion'])\n",
        "data['season'] = le_season.fit_transform(data['season'])\n",
        "data['body_type'] = le_body_type.fit_transform(data['body_type'])\n",
        "data['recommended_combination'] = le_combination.fit_transform(data['recommended_combination'])\n",
        "\n",
        "# Split the dataset into two parts: one for tops and one for bottoms\n",
        "tops = data[data['item_type'].isin(le_item_type.transform(['shirt', 't-shirt', 'blouse']))]\n",
        "bottoms = data[data['item_type'].isin(le_item_type.transform(['jeans', 'pants', 'shorts', 'skirt']))]\n",
        "\n",
        "# Train the Random Forest model for tops (predicting bottoms)\n",
        "X_tops = tops[['item_type', 'color', 'style', 'occasion', 'season', 'body_type']]\n",
        "y_tops = tops['recommended_combination']\n",
        "\n",
        "X_train_tops, X_test_tops, y_train_tops, y_test_tops = train_test_split(X_tops, y_tops, test_size=0.2, random_state=42)\n",
        "top_model = RandomForestClassifier(\n",
        "    random_state=42,\n",
        "    n_estimators=50,          # Reduced number of trees\n",
        "    max_depth=5,              # Limit the depth of trees\n",
        "    min_samples_split=10,     # Increase minimum samples required to split a node\n",
        "    min_samples_leaf=5        # Increase minimum samples in each leaf node\n",
        ")\n",
        "top_model.fit(X_train_tops, y_train_tops)\n",
        "\n",
        "train_accuracy_tops = top_model.score(X_train_tops, y_train_tops) * 100\n",
        "test_accuracy_tops = top_model.score(X_test_tops, y_test_tops) * 100\n",
        "\n",
        "print(f\"Top model training accuracy: {train_accuracy_tops:.2f}%\")\n",
        "print(f\"Top model test accuracy: {test_accuracy_tops:.2f}%\")\n",
        "\n",
        "# Save the top model and encoders\n",
        "joblib.dump(top_model, 'top_model.pkl')\n",
        "\n",
        "# Train the Random Forest model for bottoms (predicting tops)\n",
        "X_bottoms = bottoms[['item_type', 'color', 'style', 'occasion', 'season', 'body_type']]\n",
        "y_bottoms = bottoms['recommended_combination']\n",
        "\n",
        "X_train_bottoms, X_test_bottoms, y_train_bottoms, y_test_bottoms = train_test_split(X_bottoms, y_bottoms, test_size=0.2, random_state=42)\n",
        "bottom_model = RandomForestClassifier(\n",
        "    random_state=42,\n",
        "    n_estimators=50,          # Reduced number of trees\n",
        "    max_depth=5,              # Limit the depth of trees\n",
        "    min_samples_split=10,     # Increase minimum samples required to split a node\n",
        "    min_samples_leaf=5        # Increase minimum samples in each leaf node\n",
        ")\n",
        "bottom_model.fit(X_train_bottoms, y_train_bottoms)\n",
        "\n",
        "train_accuracy_bottoms = bottom_model.score(X_train_bottoms, y_train_bottoms) * 100\n",
        "test_accuracy_bottoms = bottom_model.score(X_test_bottoms, y_test_bottoms) * 100\n",
        "\n",
        "print(f\"Bottom model training accuracy: {train_accuracy_bottoms:.2f}%\")\n",
        "print(f\"Bottom model test accuracy: {test_accuracy_bottoms:.2f}%\")\n",
        "\n",
        "# Save the bottom model and encoders\n",
        "joblib.dump(bottom_model, 'bottom_model.pkl')\n",
        "\n",
        "# Save LabelEncoders\n",
        "joblib.dump(le_item_type, 'le_item_type.pkl')\n",
        "joblib.dump(le_color, 'le_color.pkl')\n",
        "joblib.dump(le_style, 'le_style.pkl')\n",
        "joblib.dump(le_occasion, 'le_occasion.pkl')\n",
        "joblib.dump(le_season, 'le_season.pkl')\n",
        "joblib.dump(le_body_type, 'le_body_type.pkl')\n",
        "joblib.dump(le_combination, 'le_combination.pkl')\n"
      ]
    },
    {
      "cell_type": "code",
      "execution_count": null,
      "id": "21b94584-fd3d-41ac-9f88-3cc60eb1ffff",
      "metadata": {
        "id": "21b94584-fd3d-41ac-9f88-3cc60eb1ffff"
      },
      "outputs": [],
      "source": [
        "def predict_outfit(item_type, color, style, occasion, season, body_type):\n",
        "    # Load the saved encoders\n",
        "    le_item_type = joblib.load('le_item_type.pkl')\n",
        "    le_color = joblib.load('le_color.pkl')\n",
        "    le_style = joblib.load('le_style.pkl')\n",
        "    le_occasion = joblib.load('le_occasion.pkl')\n",
        "    le_season = joblib.load('le_season.pkl')\n",
        "    le_body_type = joblib.load('le_body_type.pkl')\n",
        "    le_combination = joblib.load('le_combination.pkl')\n",
        "\n",
        "    # Encode the input features using the saved LabelEncoders\n",
        "    item_type_enc = le_item_type.transform([item_type])[0]\n",
        "    color_enc = le_color.transform([color])[0]\n",
        "    style_enc = le_style.transform([style])[0]\n",
        "    occasion_enc = le_occasion.transform([occasion])[0]\n",
        "    season_enc = le_season.transform([season])[0]\n",
        "    body_type_enc = le_body_type.transform([body_type])[0]\n",
        "\n",
        "    input_features = [[item_type_enc, color_enc, style_enc, occasion_enc, season_enc, body_type_enc]]\n",
        "\n",
        "    # Check if the input is a top or a bottom\n",
        "    if item_type in ['shirt', 't-shirt', 'blouse']:\n",
        "        # If input is a top, load the bottom model to predict a bottom\n",
        "        top_model = joblib.load('top_model.pkl')\n",
        "        prediction = top_model.predict(input_features)\n",
        "    else:\n",
        "        # If input is a bottom, load the top model to predict a top\n",
        "        bottom_model = joblib.load('bottom_model.pkl')\n",
        "        prediction = bottom_model.predict(input_features)\n",
        "\n",
        "    recommended_combination = le_combination.inverse_transform(prediction)[0]\n",
        "    return recommended_combination\n"
      ]
    },
    {
      "cell_type": "code",
      "execution_count": null,
      "id": "79d4cdc7-51c1-4d8a-b0c2-519ce0b871c4",
      "metadata": {
        "id": "79d4cdc7-51c1-4d8a-b0c2-519ce0b871c4",
        "outputId": "6009fa44-58c0-41ca-c019-7d2f0406b4e6"
      },
      "outputs": [
        {
          "name": "stderr",
          "output_type": "stream",
          "text": [
            "C:\\Users\\ASUS\\Desktop\\jupyter_notebooks\\env\\Lib\\site-packages\\google\\protobuf\\symbol_database.py:55: UserWarning: SymbolDatabase.GetPrototype() is deprecated. Please use message_factory.GetMessageClass() instead. SymbolDatabase.GetPrototype() will be removed soon.\n",
            "  warnings.warn('SymbolDatabase.GetPrototype() is deprecated. Please '\n",
            "C:\\Users\\ASUS\\Desktop\\jupyter_notebooks\\env\\Lib\\site-packages\\sklearn\\base.py:493: UserWarning: X does not have valid feature names, but RandomForestClassifier was fitted with feature names\n",
            "  warnings.warn(\n",
            "C:\\Users\\ASUS\\Desktop\\jupyter_notebooks\\env\\Lib\\site-packages\\google\\protobuf\\symbol_database.py:55: UserWarning: SymbolDatabase.GetPrototype() is deprecated. Please use message_factory.GetMessageClass() instead. SymbolDatabase.GetPrototype() will be removed soon.\n",
            "  warnings.warn('SymbolDatabase.GetPrototype() is deprecated. Please '\n"
          ]
        },
        {
          "name": "stdout",
          "output_type": "stream",
          "text": [
            "Predicted combination based on detected body type: t-shirt\n"
          ]
        }
      ],
      "source": [
        "import cv2\n",
        "import mediapipe as mp\n",
        "import numpy as np\n",
        "import joblib\n",
        "\n",
        "# Initialize mediapipe pose\n",
        "mp_pose = mp.solutions.pose\n",
        "mp_drawing = mp.solutions.drawing_utils\n",
        "\n",
        "def classify_body_type(landmarks):\n",
        "    if landmarks:\n",
        "        shoulder_width = np.linalg.norm(np.array([landmarks[mp_pose.PoseLandmark.LEFT_SHOULDER.value].x,\n",
        "                                                  landmarks[mp_pose.PoseLandmark.LEFT_SHOULDER.value].y]) -\n",
        "                                        np.array([landmarks[mp_pose.PoseLandmark.RIGHT_SHOULDER.value].x,\n",
        "                                                  landmarks[mp_pose.PoseLandmark.RIGHT_SHOULDER.value].y]))\n",
        "        # Example logic: Classify based on shoulder width (you can modify the logic as needed)\n",
        "        if shoulder_width > 0.15:\n",
        "            return \"athletic\"\n",
        "        else:\n",
        "            return \"average\"\n",
        "    return \"average\"\n",
        "\n",
        "# Initialize the webcam for pose detection\n",
        "cap = cv2.VideoCapture(0)\n",
        "\n",
        "# Start the pose detection loop\n",
        "with mp_pose.Pose(min_detection_confidence=0.5, min_tracking_confidence=0.5) as pose:\n",
        "    while cap.isOpened():\n",
        "        ret, frame = cap.read()\n",
        "        image = cv2.cvtColor(frame, cv2.COLOR_BGR2RGB)\n",
        "        image.flags.writeable = False\n",
        "\n",
        "        results = pose.process(image)\n",
        "\n",
        "        image.flags.writeable = True\n",
        "        image = cv2.cvtColor(image, cv2.COLOR_RGB2BGR)\n",
        "\n",
        "        # Draw pose landmarks on the image\n",
        "        mp_drawing.draw_landmarks(image, results.pose_landmarks, mp_pose.POSE_CONNECTIONS,\n",
        "                                  mp_drawing.DrawingSpec(color=(245, 117, 66), thickness=2, circle_radius=2),\n",
        "                                  mp_drawing.DrawingSpec(color=(245, 66, 230), thickness=2, circle_radius=2))\n",
        "\n",
        "        # If landmarks are detected, classify the body type\n",
        "        if results.pose_landmarks:\n",
        "            body_type = classify_body_type(results.pose_landmarks.landmark)\n",
        "            cv2.putText(image, f'Body Type: {body_type}', (10, 30), cv2.FONT_HERSHEY_SIMPLEX, 1, (255, 0, 0), 2, cv2.LINE_AA)\n",
        "\n",
        "            # Display the video feed\n",
        "            cv2.imshow('Mediapipe feed', image)\n",
        "\n",
        "            # Wait for user input to trigger the prediction (e.g., pressing 'p' key)\n",
        "            if cv2.waitKey(10) & 0xFF == ord('p'):\n",
        "                # Example inputs for prediction\n",
        "                item_type = 'shorts'  # Example input for item type\n",
        "                color = 'white'  # Example input for color\n",
        "                style = 'casual'  # Example input for style\n",
        "                occasion = 'daily'  # Example input for occasion\n",
        "                season = 'summer'  # Example input for season\n",
        "\n",
        "                # Predict the outfit using the detected body type and other features\n",
        "                predicted_combination = predict_outfit(item_type, color, style, occasion, season, body_type)\n",
        "                print(f\"Predicted combination based on detected body type: {predicted_combination}\")\n",
        "\n",
        "        # If the user presses the 'q' key, exit the loop\n",
        "        if cv2.waitKey(10) & 0xFF == ord('q'):\n",
        "            break\n",
        "\n",
        "cap.release()\n",
        "cv2.destroyAllWindows()\n"
      ]
    },
    {
      "cell_type": "code",
      "execution_count": null,
      "id": "38e11d7b-2e50-44a4-acfc-29154a519831",
      "metadata": {
        "id": "38e11d7b-2e50-44a4-acfc-29154a519831"
      },
      "outputs": [],
      "source": []
    }
  ],
  "metadata": {
    "kernelspec": {
      "display_name": "Python 3 (ipykernel)",
      "language": "python",
      "name": "python3"
    },
    "language_info": {
      "codemirror_mode": {
        "name": "ipython",
        "version": 3
      },
      "file_extension": ".py",
      "mimetype": "text/x-python",
      "name": "python",
      "nbconvert_exporter": "python",
      "pygments_lexer": "ipython3",
      "version": "3.11.5"
    },
    "colab": {
      "provenance": [],
      "include_colab_link": true
    }
  },
  "nbformat": 4,
  "nbformat_minor": 5
}